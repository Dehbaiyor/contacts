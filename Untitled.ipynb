{
 "cells": [
  {
   "cell_type": "code",
   "execution_count": 1,
   "metadata": {},
   "outputs": [
    {
     "name": "stdout",
     "output_type": "stream",
     "text": [
      "Collecting tesseract-ocr\n",
      "  Using cached tesseract-ocr-0.0.1.tar.gz (33 kB)\n",
      "Requirement already satisfied: cython in c:\\anaconda\\lib\\site-packages (from tesseract-ocr) (0.29.21)\n",
      "Building wheels for collected packages: tesseract-ocr\n",
      "  Building wheel for tesseract-ocr (setup.py): started\n",
      "  Building wheel for tesseract-ocr (setup.py): finished with status 'error'\n",
      "  Running setup.py clean for tesseract-ocr\n",
      "Failed to build tesseract-ocr\n",
      "Installing collected packages: tesseract-ocr\n",
      "    Running setup.py install for tesseract-ocr: started\n",
      "    Running setup.py install for tesseract-ocr: finished with status 'error'\n"
     ]
    },
    {
     "name": "stderr",
     "output_type": "stream",
     "text": [
      "  ERROR: Command errored out with exit status 1:\n",
      "   command: 'C:\\Anaconda\\python.exe' -u -c 'import sys, setuptools, tokenize; sys.argv[0] = '\"'\"'C:\\\\Users\\\\Oshingabesan Adebayo\\\\AppData\\\\Local\\\\Temp\\\\pip-install-sll2mivn\\\\tesseract-ocr\\\\setup.py'\"'\"'; __file__='\"'\"'C:\\\\Users\\\\Oshingabesan Adebayo\\\\AppData\\\\Local\\\\Temp\\\\pip-install-sll2mivn\\\\tesseract-ocr\\\\setup.py'\"'\"';f=getattr(tokenize, '\"'\"'open'\"'\"', open)(__file__);code=f.read().replace('\"'\"'\\r\\n'\"'\"', '\"'\"'\\n'\"'\"');f.close();exec(compile(code, __file__, '\"'\"'exec'\"'\"'))' bdist_wheel -d 'C:\\Users\\Oshingabesan Adebayo\\AppData\\Local\\Temp\\pip-wheel-ij577xrh'\n",
      "       cwd: C:\\Users\\Oshingabesan Adebayo\\AppData\\Local\\Temp\\pip-install-sll2mivn\\tesseract-ocr\\\n",
      "  Complete output (8 lines):\n",
      "  running bdist_wheel\n",
      "  running build\n",
      "  running build_py\n",
      "  file tesseract_ocr.py (for module tesseract_ocr) not found\n",
      "  file tesseract_ocr.py (for module tesseract_ocr) not found\n",
      "  running build_ext\n",
      "  building 'tesseract_ocr' extension\n",
      "  error: Microsoft Visual C++ 14.0 is required. Get it with \"Build Tools for Visual Studio\": https://visualstudio.microsoft.com/downloads/\n",
      "  ----------------------------------------\n",
      "  ERROR: Failed building wheel for tesseract-ocr\n",
      "    ERROR: Command errored out with exit status 1:\n",
      "     command: 'C:\\Anaconda\\python.exe' -u -c 'import sys, setuptools, tokenize; sys.argv[0] = '\"'\"'C:\\\\Users\\\\Oshingabesan Adebayo\\\\AppData\\\\Local\\\\Temp\\\\pip-install-sll2mivn\\\\tesseract-ocr\\\\setup.py'\"'\"'; __file__='\"'\"'C:\\\\Users\\\\Oshingabesan Adebayo\\\\AppData\\\\Local\\\\Temp\\\\pip-install-sll2mivn\\\\tesseract-ocr\\\\setup.py'\"'\"';f=getattr(tokenize, '\"'\"'open'\"'\"', open)(__file__);code=f.read().replace('\"'\"'\\r\\n'\"'\"', '\"'\"'\\n'\"'\"');f.close();exec(compile(code, __file__, '\"'\"'exec'\"'\"'))' install --record 'C:\\Users\\Oshingabesan Adebayo\\AppData\\Local\\Temp\\pip-record-4tpwqcde\\install-record.txt' --single-version-externally-managed --compile --install-headers 'C:\\Anaconda\\Include\\tesseract-ocr'\n",
      "         cwd: C:\\Users\\Oshingabesan Adebayo\\AppData\\Local\\Temp\\pip-install-sll2mivn\\tesseract-ocr\\\n",
      "    Complete output (8 lines):\n",
      "    running install\n",
      "    running build\n",
      "    running build_py\n",
      "    file tesseract_ocr.py (for module tesseract_ocr) not found\n",
      "    file tesseract_ocr.py (for module tesseract_ocr) not found\n",
      "    running build_ext\n",
      "    building 'tesseract_ocr' extension\n",
      "    error: Microsoft Visual C++ 14.0 is required. Get it with \"Build Tools for Visual Studio\": https://visualstudio.microsoft.com/downloads/\n",
      "    ----------------------------------------\n",
      "ERROR: Command errored out with exit status 1: 'C:\\Anaconda\\python.exe' -u -c 'import sys, setuptools, tokenize; sys.argv[0] = '\"'\"'C:\\\\Users\\\\Oshingabesan Adebayo\\\\AppData\\\\Local\\\\Temp\\\\pip-install-sll2mivn\\\\tesseract-ocr\\\\setup.py'\"'\"'; __file__='\"'\"'C:\\\\Users\\\\Oshingabesan Adebayo\\\\AppData\\\\Local\\\\Temp\\\\pip-install-sll2mivn\\\\tesseract-ocr\\\\setup.py'\"'\"';f=getattr(tokenize, '\"'\"'open'\"'\"', open)(__file__);code=f.read().replace('\"'\"'\\r\\n'\"'\"', '\"'\"'\\n'\"'\"');f.close();exec(compile(code, __file__, '\"'\"'exec'\"'\"'))' install --record 'C:\\Users\\Oshingabesan Adebayo\\AppData\\Local\\Temp\\pip-record-4tpwqcde\\install-record.txt' --single-version-externally-managed --compile --install-headers 'C:\\Anaconda\\Include\\tesseract-ocr' Check the logs for full command output.\n"
     ]
    }
   ],
   "source": [
    "!pip install tesseract-ocr"
   ]
  },
  {
   "cell_type": "code",
   "execution_count": null,
   "metadata": {},
   "outputs": [],
   "source": [
    "!pip install flask-ngrok\n",
    "!sudo apt install tesseract-ocr\n",
    "!pip install pytesseract\n",
    "!pip install pdf2image\n",
    "!pip install opencv-python\n",
    "!sudo apt-get install tesseract-ocr-eng\n",
    "!sudo apt install poppler-utils"
   ]
  }
 ],
 "metadata": {
  "kernelspec": {
   "display_name": "Python 3",
   "language": "python",
   "name": "python3"
  },
  "language_info": {
   "codemirror_mode": {
    "name": "ipython",
    "version": 3
   },
   "file_extension": ".py",
   "mimetype": "text/x-python",
   "name": "python",
   "nbconvert_exporter": "python",
   "pygments_lexer": "ipython3",
   "version": "3.8.3"
  }
 },
 "nbformat": 4,
 "nbformat_minor": 4
}
